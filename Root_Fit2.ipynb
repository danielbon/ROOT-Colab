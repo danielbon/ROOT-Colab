{
  "nbformat": 4,
  "nbformat_minor": 0,
  "metadata": {
    "colab": {
      "name": "Root-Fit2.ipynb",
      "provenance": [],
      "authorship_tag": "ABX9TyMELOdbqddWqqtkIzfyJ20T",
      "include_colab_link": true
    },
    "kernelspec": {
      "name": "python3",
      "display_name": "Python 3"
    },
    "language_info": {
      "name": "python"
    }
  },
  "cells": [
    {
      "cell_type": "markdown",
      "metadata": {
        "id": "view-in-github",
        "colab_type": "text"
      },
      "source": [
        "<a href=\"https://colab.research.google.com/github/danielbon/ROOT-Colab/blob/main/Root_Fit2.ipynb\" target=\"_parent\"><img src=\"https://colab.research.google.com/assets/colab-badge.svg\" alt=\"Open In Colab\"/></a>"
      ]
    },
    {
      "cell_type": "code",
      "execution_count": 2,
      "metadata": {
        "colab": {
          "base_uri": "https://localhost:8080/"
        },
        "id": "kCEDpxrtZyji",
        "outputId": "cf10425e-4e56-4ae7-f335-f65aa7c46e86"
      },
      "outputs": [
        {
          "output_type": "stream",
          "name": "stdout",
          "text": [
            "3.7.13 (default, Apr 24 2022, 01:04:09) \n",
            "[GCC 7.5.0] <google.colab._shell.Shell object at 0x7fc73b8bc690>\n",
            "/content\n",
            "--2022-07-23 00:17:08--  https://root.cern.ch/download/root_v6.26.04.Linux-ubuntu18-x86_64-gcc7.5.tar.gz\n",
            "Resolving root.cern.ch (root.cern.ch)... 188.184.49.144, 2001:1458:d00:55::100:c\n",
            "Connecting to root.cern.ch (root.cern.ch)|188.184.49.144|:443... connected.\n",
            "HTTP request sent, awaiting response... 200 OK\n",
            "Length: 235525635 (225M) [application/x-gzip]\n",
            "Saving to: ‘root_v6.26.04.Linux-ubuntu18-x86_64-gcc7.5.tar.gz’\n",
            "\n",
            "root_v6.26.04.Linux 100%[===================>] 224.61M  18.0MB/s    in 14s     \n",
            "\n",
            "2022-07-23 00:17:22 (16.2 MB/s) - ‘root_v6.26.04.Linux-ubuntu18-x86_64-gcc7.5.tar.gz’ saved [235525635/235525635]\n",
            "\n",
            "Looking in indexes: https://pypi.org/simple, https://us-python.pkg.dev/colab-wheels/public/simple/\n",
            "Collecting root-numpy\n",
            "  Downloading root_numpy-4.8.0.tar.gz (520 kB)\n",
            "\u001b[K     |████████████████████████████████| 520 kB 10.1 MB/s \n",
            "\u001b[?25hBuilding wheels for collected packages: root-numpy\n",
            "  Building wheel for root-numpy (setup.py) ... \u001b[?25lerror\n",
            "\u001b[31m  ERROR: Failed building wheel for root-numpy\u001b[0m\n",
            "\u001b[?25h  Running setup.py clean for root-numpy\n",
            "Failed to build root-numpy\n",
            "Installing collected packages: root-numpy\n",
            "    Running setup.py install for root-numpy ... \u001b[?25l\u001b[?25herror\n",
            "\u001b[31mERROR: Command errored out with exit status 1: /usr/bin/python3 -u -c 'import io, os, sys, setuptools, tokenize; sys.argv[0] = '\"'\"'/tmp/pip-install-yz_rw5oj/root-numpy_7ae4e5ca412b4f72acf43a077ab79d46/setup.py'\"'\"'; __file__='\"'\"'/tmp/pip-install-yz_rw5oj/root-numpy_7ae4e5ca412b4f72acf43a077ab79d46/setup.py'\"'\"';f = getattr(tokenize, '\"'\"'open'\"'\"', open)(__file__) if os.path.exists(__file__) else io.StringIO('\"'\"'from setuptools import setup; setup()'\"'\"');code = f.read().replace('\"'\"'\\r\\n'\"'\"', '\"'\"'\\n'\"'\"');f.close();exec(compile(code, __file__, '\"'\"'exec'\"'\"'))' install --record /tmp/pip-record-fd9d_xt3/install-record.txt --single-version-externally-managed --compile --install-headers /usr/local/include/python3.7/root-numpy Check the logs for full command output.\u001b[0m\n",
            "Reading package lists... Done\n",
            "Building dependency tree       \n",
            "Reading state information... Done\n",
            "The following package was automatically installed and is no longer required:\n",
            "  libnvidia-common-460\n",
            "Use 'sudo apt autoremove' to remove it.\n",
            "The following additional packages will be installed:\n",
            "  libgsoap-2.8.60\n",
            "The following NEW packages will be installed:\n",
            "  libdavix0v5 libgsoap-2.8.60\n",
            "0 upgraded, 2 newly installed, 0 to remove and 49 not upgraded.\n",
            "Need to get 594 kB of archives.\n",
            "After this operation, 2,765 kB of additional disk space will be used.\n",
            "Get:1 http://archive.ubuntu.com/ubuntu bionic/universe amd64 libgsoap-2.8.60 amd64 2.8.60-2build1 [222 kB]\n",
            "Get:2 http://archive.ubuntu.com/ubuntu bionic/universe amd64 libdavix0v5 amd64 0.6.7-1 [372 kB]\n",
            "Fetched 594 kB in 1s (633 kB/s)\n",
            "debconf: unable to initialize frontend: Dialog\n",
            "debconf: (No usable dialog-like program is installed, so the dialog based frontend cannot be used. at /usr/share/perl5/Debconf/FrontEnd/Dialog.pm line 76, <> line 2.)\n",
            "debconf: falling back to frontend: Readline\n",
            "debconf: unable to initialize frontend: Readline\n",
            "debconf: (This frontend requires a controlling tty.)\n",
            "debconf: falling back to frontend: Teletype\n",
            "dpkg-preconfigure: unable to re-open stdin: \n",
            "Selecting previously unselected package libgsoap-2.8.60:amd64.\n",
            "(Reading database ... 155653 files and directories currently installed.)\n",
            "Preparing to unpack .../libgsoap-2.8.60_2.8.60-2build1_amd64.deb ...\n",
            "Unpacking libgsoap-2.8.60:amd64 (2.8.60-2build1) ...\n",
            "Selecting previously unselected package libdavix0v5:amd64.\n",
            "Preparing to unpack .../libdavix0v5_0.6.7-1_amd64.deb ...\n",
            "Unpacking libdavix0v5:amd64 (0.6.7-1) ...\n",
            "Setting up libgsoap-2.8.60:amd64 (2.8.60-2build1) ...\n",
            "Setting up libdavix0v5:amd64 (0.6.7-1) ...\n",
            "Processing triggers for libc-bin (2.27-3ubuntu1.3) ...\n",
            "/sbin/ldconfig.real: /usr/local/lib/python3.7/dist-packages/ideep4py/lib/libmkldnn.so.0 is not a symbolic link\n",
            "\n",
            "Davix.GSI.CACheck: n\n"
          ]
        }
      ],
      "source": [
        "import sys\n",
        "print (sys.version, get_ipython())\n",
        "# istallazione di ROOT dal CERN\n",
        "!mkdir -p APPS\n",
        "!pwd\n",
        "!cd APPS && wget --no-check-certificate https://root.cern.ch/download/root_v6.26.04.Linux-ubuntu18-x86_64-gcc7.5.tar.gz\n",
        "!cd APPS && tar -xf root_v6.26.04.Linux-ubuntu18-x86_64-gcc7.5.tar.gz\n",
        "base_lib_path = '/content/APPS/root/lib/'\n",
        "# main paths for ROOT  \n",
        "sys.path.append(base_lib_path)\n",
        "import ctypes\n",
        "sys.path.append(base_lib_path)\n",
        "ctypes.cdll.LoadLibrary(base_lib_path+'libCore.so')\n",
        "ctypes.cdll.LoadLibrary(base_lib_path+'libThread.so')\n",
        "ctypes.cdll.LoadLibrary(base_lib_path+'libImt.so')\n",
        "ctypes.cdll.LoadLibrary(base_lib_path+'libRIO.so')\n",
        "ctypes.cdll.LoadLibrary(base_lib_path+'libNet.so')\n",
        "ctypes.cdll.LoadLibrary(base_lib_path+'libTree.so')\n",
        "ctypes.cdll.LoadLibrary(base_lib_path+'libMathCore.so')\n",
        "ctypes.cdll.LoadLibrary(base_lib_path+'libMatrix.so')\n",
        "ctypes.cdll.LoadLibrary(base_lib_path+'libHist.so')\n",
        "ctypes.cdll.LoadLibrary(base_lib_path+'libGraf.so')\n",
        "# itsllation and root-numpy main PATH\n",
        "!pip install root-numpy\n",
        "ctypes.cdll.LoadLibrary(base_lib_path+'libMultiProc.so')\n",
        "ctypes.cdll.LoadLibrary(base_lib_path+'libGpad.so')\n",
        "ctypes.cdll.LoadLibrary(base_lib_path+'libGraf3d.so')\n",
        "ctypes.cdll.LoadLibrary(base_lib_path+'libTreePlayer.so')\n",
        "# patch to open online FILE\n",
        "!sudo apt-get install libdavix0v5\n",
        "ctypes.cdll.LoadLibrary(base_lib_path+'libRDAVIX.so')\n",
        "!echo \"Davix.GSI.CACheck: n\" >> $ROOTSYS/etc/system.rootrc\n",
        "!cp $ROOTSYS/etc/system.rootrc $HOME/.rootrc\n",
        "!tail -1 $HOME/.rootrc\n",
        "sys.path.append('.')\n",
        "! mkdir -p data"
      ]
    },
    {
      "cell_type": "code",
      "source": [
        "import matplotlib.pyplot as plt\n",
        "import numpy as np    \n",
        "import ROOT\n",
        "import root_numpy as rtnp\n",
        "\n",
        "%matplotlib inline\n",
        "\n",
        "\n",
        "def s3_root_file(sel, run):\n",
        "    BASE_URL  = \"https://s3.cloud.infn.it/v1/AUTH_2ebf769785574195bde2ff418deac08a/cygnus/\"\n",
        "    file_root = ('Data/'+sel+'/histograms_Run%05d.root' % run)\n",
        "    return BASE_URL+file_root\n",
        "def root_TH2_name(root_file):\n",
        "    pic = []\n",
        "    wfm = []\n",
        "    for i,e in enumerate(root_file.GetListOfKeys()):\n",
        "        che = e.GetName()\n",
        "        if ('pic_run' in str(che)):\n",
        "            pic.append(che)\n",
        "        elif ('wfm_run' in str(che)):\n",
        "            wfm.append(che)\n",
        "    return pic, wfm"
      ],
      "metadata": {
        "colab": {
          "base_uri": "https://localhost:8080/",
          "height": 572
        },
        "id": "HmXTRHQEbK42",
        "outputId": "ab158f52-7cb0-4381-92fa-5b4d1753f7f2"
      },
      "execution_count": 3,
      "outputs": [
        {
          "output_type": "error",
          "ename": "ImportError",
          "evalue": "ignored",
          "traceback": [
            "\u001b[0;31m---------------------------------------------------------------------------\u001b[0m",
            "\u001b[0;31mModuleNotFoundError\u001b[0m                       Traceback (most recent call last)",
            "\u001b[0;32m/content/APPS/root/lib/cppyy/__init__.py\u001b[0m in \u001b[0;36m<module>\u001b[0;34m()\u001b[0m\n\u001b[1;32m     59\u001b[0m \u001b[0;32mtry\u001b[0m\u001b[0;34m:\u001b[0m\u001b[0;34m\u001b[0m\u001b[0;34m\u001b[0m\u001b[0m\n\u001b[0;32m---> 60\u001b[0;31m     \u001b[0mimportlib\u001b[0m\u001b[0;34m.\u001b[0m\u001b[0mimport_module\u001b[0m\u001b[0;34m(\u001b[0m\u001b[0mlibcppyy_mod_name\u001b[0m\u001b[0;34m)\u001b[0m\u001b[0;34m\u001b[0m\u001b[0;34m\u001b[0m\u001b[0m\n\u001b[0m\u001b[1;32m     61\u001b[0m \u001b[0;32mexcept\u001b[0m \u001b[0mImportError\u001b[0m\u001b[0;34m:\u001b[0m\u001b[0;34m\u001b[0m\u001b[0;34m\u001b[0m\u001b[0m\n",
            "\u001b[0;32m/usr/lib/python3.7/importlib/__init__.py\u001b[0m in \u001b[0;36mimport_module\u001b[0;34m(name, package)\u001b[0m\n\u001b[1;32m    126\u001b[0m             \u001b[0mlevel\u001b[0m \u001b[0;34m+=\u001b[0m \u001b[0;36m1\u001b[0m\u001b[0;34m\u001b[0m\u001b[0;34m\u001b[0m\u001b[0m\n\u001b[0;32m--> 127\u001b[0;31m     \u001b[0;32mreturn\u001b[0m \u001b[0m_bootstrap\u001b[0m\u001b[0;34m.\u001b[0m\u001b[0m_gcd_import\u001b[0m\u001b[0;34m(\u001b[0m\u001b[0mname\u001b[0m\u001b[0;34m[\u001b[0m\u001b[0mlevel\u001b[0m\u001b[0;34m:\u001b[0m\u001b[0;34m]\u001b[0m\u001b[0;34m,\u001b[0m \u001b[0mpackage\u001b[0m\u001b[0;34m,\u001b[0m \u001b[0mlevel\u001b[0m\u001b[0;34m)\u001b[0m\u001b[0;34m\u001b[0m\u001b[0;34m\u001b[0m\u001b[0m\n\u001b[0m\u001b[1;32m    128\u001b[0m \u001b[0;34m\u001b[0m\u001b[0m\n",
            "\u001b[0;32m/usr/lib/python3.7/importlib/_bootstrap.py\u001b[0m in \u001b[0;36m_gcd_import\u001b[0;34m(name, package, level)\u001b[0m\n",
            "\u001b[0;32m/usr/lib/python3.7/importlib/_bootstrap.py\u001b[0m in \u001b[0;36m_find_and_load\u001b[0;34m(name, import_)\u001b[0m\n",
            "\u001b[0;32m/usr/lib/python3.7/importlib/_bootstrap.py\u001b[0m in \u001b[0;36m_find_and_load_unlocked\u001b[0;34m(name, import_)\u001b[0m\n",
            "\u001b[0;31mModuleNotFoundError\u001b[0m: No module named 'libcppyy3_7'",
            "\nDuring handling of the above exception, another exception occurred:\n",
            "\u001b[0;31mImportError\u001b[0m                               Traceback (most recent call last)",
            "\u001b[0;32m<ipython-input-3-30a724698350>\u001b[0m in \u001b[0;36m<module>\u001b[0;34m()\u001b[0m\n\u001b[1;32m      1\u001b[0m \u001b[0;32mimport\u001b[0m \u001b[0mmatplotlib\u001b[0m\u001b[0;34m.\u001b[0m\u001b[0mpyplot\u001b[0m \u001b[0;32mas\u001b[0m \u001b[0mplt\u001b[0m\u001b[0;34m\u001b[0m\u001b[0;34m\u001b[0m\u001b[0m\n\u001b[1;32m      2\u001b[0m \u001b[0;32mimport\u001b[0m \u001b[0mnumpy\u001b[0m \u001b[0;32mas\u001b[0m \u001b[0mnp\u001b[0m\u001b[0;34m\u001b[0m\u001b[0;34m\u001b[0m\u001b[0m\n\u001b[0;32m----> 3\u001b[0;31m \u001b[0;32mimport\u001b[0m \u001b[0mROOT\u001b[0m\u001b[0;34m\u001b[0m\u001b[0;34m\u001b[0m\u001b[0m\n\u001b[0m\u001b[1;32m      4\u001b[0m \u001b[0;32mimport\u001b[0m \u001b[0mroot_numpy\u001b[0m \u001b[0;32mas\u001b[0m \u001b[0mrtnp\u001b[0m\u001b[0;34m\u001b[0m\u001b[0;34m\u001b[0m\u001b[0m\n\u001b[1;32m      5\u001b[0m \u001b[0;34m\u001b[0m\u001b[0m\n",
            "\u001b[0;32m/content/APPS/root/lib/ROOT/__init__.py\u001b[0m in \u001b[0;36m<module>\u001b[0;34m()\u001b[0m\n\u001b[1;32m     20\u001b[0m \u001b[0menviron\u001b[0m\u001b[0;34m[\u001b[0m\u001b[0;34m'CPPYY_NO_ROOT_FILTER'\u001b[0m\u001b[0;34m]\u001b[0m \u001b[0;34m=\u001b[0m \u001b[0;34m'1'\u001b[0m\u001b[0;34m\u001b[0m\u001b[0;34m\u001b[0m\u001b[0m\n\u001b[1;32m     21\u001b[0m \u001b[0;34m\u001b[0m\u001b[0m\n\u001b[0;32m---> 22\u001b[0;31m \u001b[0;32mimport\u001b[0m \u001b[0mcppyy\u001b[0m\u001b[0;34m\u001b[0m\u001b[0;34m\u001b[0m\u001b[0m\n\u001b[0m\u001b[1;32m     23\u001b[0m \u001b[0;32mif\u001b[0m \u001b[0;32mnot\u001b[0m \u001b[0;34m'ROOTSYS'\u001b[0m \u001b[0;32min\u001b[0m \u001b[0menviron\u001b[0m\u001b[0;34m:\u001b[0m\u001b[0;34m\u001b[0m\u001b[0;34m\u001b[0m\u001b[0m\n\u001b[1;32m     24\u001b[0m     \u001b[0;31m# Revert setting made by cppyy\u001b[0m\u001b[0;34m\u001b[0m\u001b[0;34m\u001b[0m\u001b[0;34m\u001b[0m\u001b[0m\n",
            "\u001b[0;32m/content/APPS/root/lib/cppyy/__init__.py\u001b[0m in \u001b[0;36m<module>\u001b[0;34m()\u001b[0m\n\u001b[1;32m     62\u001b[0m     raise ImportError(\n\u001b[1;32m     63\u001b[0m             'Failed to import {}. Please check that ROOT has been built for Python {}.{}'.format(\n\u001b[0;32m---> 64\u001b[0;31m                 libcppyy_mod_name, major, minor))\n\u001b[0m\u001b[1;32m     65\u001b[0m \u001b[0;34m\u001b[0m\u001b[0m\n\u001b[1;32m     66\u001b[0m \u001b[0;31m# ensure 'import libcppyy' will find the versioned module\u001b[0m\u001b[0;34m\u001b[0m\u001b[0;34m\u001b[0m\u001b[0;34m\u001b[0m\u001b[0m\n",
            "\u001b[0;31mImportError\u001b[0m: Failed to import libcppyy3_7. Please check that ROOT has been built for Python 3.7",
            "",
            "\u001b[0;31m---------------------------------------------------------------------------\u001b[0;32m\nNOTE: If your import is failing due to a missing package, you can\nmanually install dependencies using either !pip or !apt.\n\nTo view examples of installing some common dependencies, click the\n\"Open Examples\" button below.\n\u001b[0;31m---------------------------------------------------------------------------\u001b[0m\n"
          ],
          "errorDetails": {
            "actions": [
              {
                "action": "open_url",
                "actionText": "Open Examples",
                "url": "/notebooks/snippets/importing_libraries.ipynb"
              }
            ]
          }
        }
      ]
    },
    {
      "cell_type": "code",
      "source": [
        "!python --version"
      ],
      "metadata": {
        "colab": {
          "base_uri": "https://localhost:8080/"
        },
        "id": "XscDuCuNMu85",
        "outputId": "a480a87b-9481-49e3-e665-38248e305efc"
      },
      "execution_count": 3,
      "outputs": [
        {
          "output_type": "stream",
          "name": "stdout",
          "text": [
            "Python 3.7.13\n"
          ]
        }
      ]
    }
  ]
}