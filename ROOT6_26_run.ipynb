{
  "cells": [
    {
      "cell_type": "code",
      "execution_count": 2,
      "metadata": {
        "colab": {
          "base_uri": "https://localhost:8080/"
        },
        "id": "xLResSdtilZp",
        "outputId": "f2ff8c3a-546b-4d9f-e776-f50e4d9aa9b6"
      },
      "outputs": [
        {
          "output_type": "stream",
          "name": "stdout",
          "text": [
            "3.7.13 (default, Apr 24 2022, 01:04:09) \n",
            "[GCC 7.5.0] <google.colab._shell.Shell object at 0x7fc4f909f3d0>\n",
            "--2022-07-27 14:50:29--  https://www.dropbox.com/s/9wjmwjc14ckcw9q/root-6.26.04-install.zip\n",
            "Resolving www.dropbox.com (www.dropbox.com)... 162.125.65.18, 2620:100:6021:18::a27d:4112\n",
            "Connecting to www.dropbox.com (www.dropbox.com)|162.125.65.18|:443... connected.\n",
            "HTTP request sent, awaiting response... 301 Moved Permanently\n",
            "Location: /s/raw/9wjmwjc14ckcw9q/root-6.26.04-install.zip [following]\n",
            "--2022-07-27 14:50:30--  https://www.dropbox.com/s/raw/9wjmwjc14ckcw9q/root-6.26.04-install.zip\n",
            "Reusing existing connection to www.dropbox.com:443.\n",
            "HTTP request sent, awaiting response... 302 Found\n",
            "Location: https://uc56c8f9d8f4135f487b7f4751db.dl.dropboxusercontent.com/cd/0/inline/Bp531z4DyxhmPxjZs71kXMkTi6LZGjsfD1fHmXKhF3gHMjJvVq4xTsHudiB4P-Z_DtDZcEpe-V4jniStguRx2EIJdTz9mRtmrmayjUouVZYGO6OmBuN6v23mgvLi6sEjAF-ysS937m5EfmBijnxJ5iDOLWYgOqanrot0cQbU56Mo8g/file# [following]\n",
            "--2022-07-27 14:50:31--  https://uc56c8f9d8f4135f487b7f4751db.dl.dropboxusercontent.com/cd/0/inline/Bp531z4DyxhmPxjZs71kXMkTi6LZGjsfD1fHmXKhF3gHMjJvVq4xTsHudiB4P-Z_DtDZcEpe-V4jniStguRx2EIJdTz9mRtmrmayjUouVZYGO6OmBuN6v23mgvLi6sEjAF-ysS937m5EfmBijnxJ5iDOLWYgOqanrot0cQbU56Mo8g/file\n",
            "Resolving uc56c8f9d8f4135f487b7f4751db.dl.dropboxusercontent.com (uc56c8f9d8f4135f487b7f4751db.dl.dropboxusercontent.com)... 162.125.65.15, 2620:100:6017:15::a27d:20f\n",
            "Connecting to uc56c8f9d8f4135f487b7f4751db.dl.dropboxusercontent.com (uc56c8f9d8f4135f487b7f4751db.dl.dropboxusercontent.com)|162.125.65.15|:443... connected.\n",
            "HTTP request sent, awaiting response... 302 Found\n",
            "Location: /cd/0/inline2/Bp7C7P4l02t9C-x4k-rwdVXNnreKZB2ZNANITMsyjnGWW-2Zp5Sk7qk_PAGdIt_W5-93hzyCTVeYMoy-0Fwq1LITxxRW-tlDwKYufuA1Sk91K1ROSxGCJjBGEpyqOVkHpGHze9jn_b-oqBeCvbRv4MHByupHW3TYgFVrdbfIcHJnOftvvvdxWB4pe2Sl2a7DaXB1p6L6r5PtJDg3sUldkjH1f1KKwv-NcoLEMWzzdd9vLwujaiiXmKlNMn1Ridoo1XHSkg1rZb45eJljZCGZrWl4z_Bb6lVDrL26YcOcPnCsZjDG-QwI2uQbDXieRCZ0HXSc51cuACmUcRBhPLSlcAatQ6ocxXYnpo56761-xmNAHiS191ghM8Z3lFH0Cr87tAH6GZT5MIeofrzzJmowvD6bKDVxTf_RRt9AfB42_ZSRZw/file [following]\n",
            "--2022-07-27 14:50:31--  https://uc56c8f9d8f4135f487b7f4751db.dl.dropboxusercontent.com/cd/0/inline2/Bp7C7P4l02t9C-x4k-rwdVXNnreKZB2ZNANITMsyjnGWW-2Zp5Sk7qk_PAGdIt_W5-93hzyCTVeYMoy-0Fwq1LITxxRW-tlDwKYufuA1Sk91K1ROSxGCJjBGEpyqOVkHpGHze9jn_b-oqBeCvbRv4MHByupHW3TYgFVrdbfIcHJnOftvvvdxWB4pe2Sl2a7DaXB1p6L6r5PtJDg3sUldkjH1f1KKwv-NcoLEMWzzdd9vLwujaiiXmKlNMn1Ridoo1XHSkg1rZb45eJljZCGZrWl4z_Bb6lVDrL26YcOcPnCsZjDG-QwI2uQbDXieRCZ0HXSc51cuACmUcRBhPLSlcAatQ6ocxXYnpo56761-xmNAHiS191ghM8Z3lFH0Cr87tAH6GZT5MIeofrzzJmowvD6bKDVxTf_RRt9AfB42_ZSRZw/file\n",
            "Reusing existing connection to uc56c8f9d8f4135f487b7f4751db.dl.dropboxusercontent.com:443.\n",
            "HTTP request sent, awaiting response... 200 OK\n",
            "Length: 264087262 (252M) [application/zip]\n",
            "Saving to: ‘root-6.26.04-install.zip.1’\n",
            "\n",
            "root-6.26.04-instal 100%[===================>] 251.85M  15.2MB/s    in 17s     \n",
            "\n",
            "2022-07-27 14:50:49 (14.7 MB/s) - ‘root-6.26.04-install.zip.1’ saved [264087262/264087262]\n",
            "\n",
            "Archive:  /content/root-6.26.04-install.zip\n",
            "replace root-6.26.04-install/LICENSE? [y]es, [n]o, [A]ll, [N]one, [r]ename: N\n",
            "Reading package lists... Done\n",
            "Building dependency tree       \n",
            "Reading state information... Done\n",
            "libgsl-dev is already the newest version (2.4+dfsg-6).\n",
            "The following package was automatically installed and is no longer required:\n",
            "  libnvidia-common-460\n",
            "Use 'apt autoremove' to remove it.\n",
            "0 upgraded, 0 newly installed, 0 to remove and 49 not upgraded.\n"
          ]
        }
      ],
      "source": [
        "import sys\n",
        "print (sys.version, get_ipython())\n",
        "!wget https://www.dropbox.com/s/9wjmwjc14ckcw9q/root-6.26.04-install.zip\n",
        "!unzip \"/content/root-6.26.04-install.zip\"\n",
        "!apt-get install libgsl-dev"
      ]
    },
    {
      "cell_type": "code",
      "source": [
        "!source root-6.26.04-install/bin/thisroot.sh"
      ],
      "metadata": {
        "id": "P-2cj2cvyJ9b"
      },
      "execution_count": 3,
      "outputs": []
    },
    {
      "cell_type": "code",
      "source": [
        "import sys\n",
        "sys.path.append(\"/content/root-6.26.04-install/\")\n",
        "sys.path.append(\"/content/root-6.26.04-install/bin/\")\n",
        "sys.path.append(\"/root-6.26.04-install/include/\")\n",
        "sys.path.append(\"/content/root-6.26.04-install/lib/\")\n",
        "import ctypes\n",
        "ctypes.cdll.LoadLibrary('/content/root-6.26.04-install/lib/libCore.so')\n",
        "ctypes.cdll.LoadLibrary('/content/root-6.26.04-install/lib/libThread.so')\n",
        "ctypes.cdll.LoadLibrary('/content/root-6.26.04-install/lib/libTreePlayer.so')\n",
        "ctypes.cdll.LoadLibrary('/content/root-6.26.04-install/lib/libImt.so')\n",
        "ctypes.cdll.LoadLibrary('/content/root-6.26.04-install/lib/libRIO.so')\n",
        "ctypes.cdll.LoadLibrary('/content/root-6.26.04-install/lib/libNet.so')\n",
        "ctypes.cdll.LoadLibrary('/content/root-6.26.04-install/lib/libTree.so')\n",
        "ctypes.cdll.LoadLibrary('/content/root-6.26.04-install/lib/libMathCore.so')\n",
        "ctypes.cdll.LoadLibrary('/content/root-6.26.04-install/lib/libMatrix.so')\n",
        "ctypes.cdll.LoadLibrary('/content/root-6.26.04-install/lib/libHist.so')\n",
        "ctypes.cdll.LoadLibrary('/content/root-6.26.04-install/lib/libGraf.so')\n"
      ],
      "metadata": {
        "colab": {
          "base_uri": "https://localhost:8080/"
        },
        "id": "fEYym0pLkqLj",
        "outputId": "3d788b71-c1fe-48a7-86da-e5539511589d"
      },
      "execution_count": 4,
      "outputs": [
        {
          "output_type": "execute_result",
          "data": {
            "text/plain": [
              "<CDLL '/content/root-6.26.04-install/lib/libGraf.so', handle 4a3f700 at 0x7fc4e0446590>"
            ]
          },
          "metadata": {},
          "execution_count": 4
        }
      ]
    },
    {
      "cell_type": "code",
      "source": [
        "import ROOT"
      ],
      "metadata": {
        "id": "dxLSKtnfkscq",
        "colab": {
          "base_uri": "https://localhost:8080/"
        },
        "outputId": "65b8f6f7-f271-46a7-d749-0259ced7681e"
      },
      "execution_count": 5,
      "outputs": [
        {
          "output_type": "stream",
          "name": "stdout",
          "text": [
            "Welcome to JupyROOT 6.26/04\n"
          ]
        }
      ]
    },
    {
      "cell_type": "code",
      "source": [
        "import os\n",
        "import numpy as np\n",
        "from array import array\n",
        "import warnings\n",
        "import math\n",
        "from abc import ABC, abstractmethod\n",
        "import matplotlib.pyplot as plt\n",
        "from scipy.optimize import curve_fit\n",
        "from collections.abc import Iterable\n",
        "from google.colab import files\n",
        "from ROOT import TCanvas, TPad, TFormula, TF1, TPaveLabel, TH1F, TFile, TPaveText, TLatex\n",
        "from ROOT import gROOT, gBenchmark\n",
        "\n",
        "gROOT.Reset()\n",
        "gROOT.GetListOfCanvases().Clear()\n",
        "\n",
        "# Input parameters\n",
        "bin_size = 0.5 # bin precision for the data of the csv input file\n",
        "units = 1.0 # convertion factor in ps\n",
        "#nbins is the number of bins for the fitted histogram (e.g. 500 bins mean that bin size is 1 ps). \n",
        "#The bin size has to be larger than the bin precision.\n",
        "nbins = 500 \n",
        "\n",
        "# Do not edit beyond this line\n",
        "np.seterr(all='warn')\n",
        "c1 = TCanvas('c1', 'CTR distribution', 200, 10, 700, 900)\n",
        "uploaded = files.upload()\n",
        "n_signals = len(uploaded)\n",
        "print(\"==> Number of files: %d.\" % n_signals)\n",
        "for i, file in enumerate(uploaded):\n",
        "  print(\"==> Processing file: %d/%d.\" % (i + 1, n_signals))\n",
        "  signal = np.loadtxt(file, dtype=np.double)\n",
        "  total_sum_of_squares = np.sum((signal - np.mean(signal)) ** 2)\n",
        "  t = np.arange(len(signal), dtype=np.double)*bin_size\n",
        "  tree = ROOT.TTree(\"tree\",\"CTR\")\n",
        "  time_arr = array('d', [0])\n",
        "  tree.Branch(\"time\", time_arr, \"time/D\") # D for doubles\n",
        "  for counts in range(0, len(signal)):\n",
        "    for k in range(0, int(signal[counts])):\n",
        "      time_arr[0] = t[counts]\n",
        "      tree.Fill()\n",
        "  print('Total Lines', counts + 1)\n",
        "  tree.Print()\n",
        "  time_max = units*bin_size*(counts+1)\n",
        "  nbins_lowres = int(nbins/5)\n",
        "  h_time_lowres = ROOT.TH1D(\"h_time_lowres\", \"\", nbins_lowres, 0., time_max)\n",
        "  tree.Draw(\"time>>h_time_lowres\")\n",
        "  c1.Update()\n",
        "  c1.Print(\"CTR_lowres\"+str(i)+\".pdf\")\n",
        "  h_time = ROOT.TH1D(\"h_time\", \"\", nbins, 0., time_max)\n",
        "  h_time.SetStats(0)\n",
        "  h_time.SetLineWidth(2)\n",
        "  h_time.SetTitle(\"LYSO; time (ps); counts\");\n",
        "  tree.Draw(\"time>>h_time\")\n",
        "  c1.Update()\n",
        "  #func = ROOT.TF1(\"func\",\"gaus(0)+gaus(3)\", 0., time_max)\n",
        "  #func.SetParameters(5.,5.,1.,1.,10.,1.)\n",
        "  func = ROOT.TF1(\"func\",\"gaus\", 0., time_max)\n",
        "  #func.SetParameters(500.,1860.,5.5)\n",
        "  h_fit = h_time.Fit(func,\"SE\")\n",
        "  print (\"Fit results: Constant=\",func.GetParameter(0),\" +/- \",func.GetParError(0))\n",
        "  print (\"Fit results: Mean=\",func.GetParameter(1),\" +/- \",func.GetParError(1))\n",
        "  print (\"Fit results: Sigma=\",func.GetParameter(2),\" +/- \",func.GetParError(2))\n",
        "  FWHM = 2.355*func.GetParameter(2)\n",
        "  e_FWHM = 2.355*func.GetParError(2)\n",
        "  print (\"Fit results: FWHM=\",FWHM,\" +/- \",e_FWHM)\n",
        "  maxbin = h_time_lowres.GetMaximumBin()\n",
        "  npoints = 3\n",
        "  summax = 0\n",
        "  for m in range(-math.floor(npoints/2)+maxbin, math.ceil(npoints/2)+maxbin):\n",
        "     summax = summax+h_time_lowres.GetBinContent(m)\n",
        "  meanmax = summax/npoints\n",
        "  bin1 = h_time_lowres.FindFirstBinAbove(meanmax/2)\n",
        "  bin2 = h_time_lowres.FindLastBinAbove(meanmax/2)\n",
        "  FWHM_rough = h_time_lowres.GetBinCenter(bin2+1) - h_time_lowres.GetBinCenter(bin1-1)\n",
        "  e_FWHM_rough = 0.5*time_max/nbins_lowres\n",
        "  print (\"Fit results: rough FWHM =\",FWHM_rough,\" +/- \",e_FWHM_rough)\n",
        "  latex = ROOT.TLatex()\n",
        "  latex.SetNDC()\n",
        "  latex.SetTextSize(0.03)\n",
        "  chi2 = func.GetChisquare()\n",
        "  ndof = func.GetNDF()\n",
        "  latex.DrawLatex(0.55 ,0.75,'#frac{#chi^{2}}{ndf} = %.1f/%d = %.1f'%(chi2, ndof, chi2/ndof))\n",
        "  latex.DrawLatex(0.55 ,0.80, 'FWHM = %.1f #pm %.1f'%(FWHM,e_FWHM))\n",
        "  #c1.BuildLegend();\n",
        "  c1.Update()\n",
        "  c1.Print(\"CTR\"+str(i)+\".pdf\")\n",
        "  print('==> End.')\n",
        "  myfile = TFile(\"CTR\"+str(i)+\".root\", 'RECREATE' )\n",
        "  tree.Write()\n",
        "  h_time.Write()\n",
        "  myfile.Close()\n",
        "\n",
        "gROOT.GetListOfCanvases().Draw()\n",
        "for file in uploaded:\n",
        "  os.remove(file)\n"
      ],
      "metadata": {
        "colab": {
          "resources": {
            "http://localhost:8080/nbextensions/google.colab/files.js": {
              "data": "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",
              "ok": true,
              "headers": [
                [
                  "content-type",
                  "application/javascript"
                ]
              ],
              "status": 200,
              "status_text": ""
            }
          },
          "base_uri": "https://localhost:8080/",
          "height": 1000
        },
        "id": "8ViV74Lr1NwB",
        "outputId": "1b530191-9297-4d9b-835e-8b8f5eb94bf1"
      },
      "execution_count": 19,
      "outputs": [
        {
          "output_type": "display_data",
          "data": {
            "text/plain": [
              "<IPython.core.display.HTML object>"
            ],
            "text/html": [
              "\n",
              "     <input type=\"file\" id=\"files-29579bc9-258c-4078-8031-463c2900daa2\" name=\"files[]\" multiple disabled\n",
              "        style=\"border:none\" />\n",
              "     <output id=\"result-29579bc9-258c-4078-8031-463c2900daa2\">\n",
              "      Upload widget is only available when the cell has been executed in the\n",
              "      current browser session. Please rerun this cell to enable.\n",
              "      </output>\n",
              "      <script src=\"/nbextensions/google.colab/files.js\"></script> "
            ]
          },
          "metadata": {}
        },
        {
          "output_type": "stream",
          "name": "stdout",
          "text": [
            "Saving CTR5.0.Wfm1000.csv to CTR5.0.Wfm1000.csv\n",
            "==> Number of files: 1.\n",
            "==> Processing file: 1/1.\n",
            "Total Lines 1000\n",
            "Fit results: Constant= 174.99398723403687  +/-  1.7643084268699156\n",
            "Fit results: Mean= 224.77181036692363  +/-  0.286707391780364\n",
            "Fit results: Sigma= 35.730558534109576  +/-  0.2214537158203882\n",
            "Fit results: FWHM= 84.14546534782805  +/-  0.5215235007570141\n",
            "Fit results: rough FWHM = 85.0  +/-  2.5\n",
            "==> End.\n",
            "******************************************************************************\n",
            "*Tree    :tree      : CTR                                                    *\n",
            "*Entries :    16005 : Total =          129581 bytes  File  Size =          0 *\n",
            "*        :          : Tree compression factor =   1.00                       *\n",
            "******************************************************************************\n",
            "*Br    0 :time      : time/D                                                 *\n",
            "*Entries :    16005 : Total  Size=     129287 bytes  All baskets in memory   *\n",
            "*Baskets :        4 : Basket Size=      32000 bytes  Compression=   1.00     *\n",
            "*............................................................................*\n",
            " FCN=345.009 FROM MINOS     STATUS=SUCCESSFUL     20 CALLS         151 TOTAL\n",
            "                     EDM=5.34783e-10    STRATEGY= 1      ERROR MATRIX ACCURATE \n",
            "  EXT PARAMETER                                   STEP         FIRST   \n",
            "  NO.   NAME      VALUE            ERROR          SIZE      DERIVATIVE \n",
            "   1  Constant     1.74994e+02   1.76431e+00  -4.26283e-03   1.07111e-04\n",
            "   2  Mean         2.24772e+02   2.86707e-01   2.53233e-04  -9.77367e-05\n",
            "   3  Sigma        3.57306e+01   2.21454e-01   2.21454e-01  -1.44731e-02\n"
          ]
        },
        {
          "output_type": "stream",
          "name": "stderr",
          "text": [
            "Warning in <TROOT::Append>: Replacing existing TH1: h_time_lowres (Potential memory leak).\n",
            "Info in <TCanvas::Print>: pdf file CTR_lowres0.pdf has been created\n",
            "Warning in <TROOT::Append>: Replacing existing TH1: h_time (Potential memory leak).\n",
            "Info in <TCanvas::Print>: pdf file CTR0.pdf has been created\n"
          ]
        },
        {
          "output_type": "display_data",
          "data": {
            "text/plain": [
              "<IPython.core.display.Image object>"
            ],
            "image/png": "[encoded data removed]"
          },
          "metadata": {}
        }
      ]
    }
  ],
  "metadata": {
    "colab": {
      "name": "ROOT6.26-run.ipynb",
      "provenance": [],
      "collapsed_sections": []
    },
    "kernelspec": {
      "display_name": "Python 3",
      "name": "python3"
    },
    "language_info": {
      "name": "python"
    }
  },
  "nbformat": 4,
  "nbformat_minor": 0
}